{
 "cells": [
  {
   "cell_type": "markdown",
   "id": "321dbde5",
   "metadata": {},
   "source": [
    "# Case Study on Measures of Central Tendency and Dispersion"
   ]
  },
  {
   "cell_type": "markdown",
   "id": "821d319d",
   "metadata": {},
   "source": [
    "### An Institution wishes to find out their student’s ability in maths, reading and writing skills. The Institution wants to do an exploratory study to check the following information.\n"
   ]
  },
  {
   "cell_type": "markdown",
   "id": "b86d8e96",
   "metadata": {},
   "source": [
    "### Read the dataset"
   ]
  },
  {
   "cell_type": "code",
   "execution_count": 71,
   "id": "7fd1ec4b",
   "metadata": {},
   "outputs": [
    {
     "data": {
      "text/html": [
       "<div>\n",
       "<style scoped>\n",
       "    .dataframe tbody tr th:only-of-type {\n",
       "        vertical-align: middle;\n",
       "    }\n",
       "\n",
       "    .dataframe tbody tr th {\n",
       "        vertical-align: top;\n",
       "    }\n",
       "\n",
       "    .dataframe thead th {\n",
       "        text-align: right;\n",
       "    }\n",
       "</style>\n",
       "<table border=\"1\" class=\"dataframe\">\n",
       "  <thead>\n",
       "    <tr style=\"text-align: right;\">\n",
       "      <th></th>\n",
       "      <th>gender</th>\n",
       "      <th>race/ethnicity</th>\n",
       "      <th>parental level of education</th>\n",
       "      <th>lunch</th>\n",
       "      <th>test preparation course</th>\n",
       "      <th>math score</th>\n",
       "      <th>reading score</th>\n",
       "      <th>writing score</th>\n",
       "    </tr>\n",
       "  </thead>\n",
       "  <tbody>\n",
       "    <tr>\n",
       "      <th>0</th>\n",
       "      <td>female</td>\n",
       "      <td>group C</td>\n",
       "      <td>some high school</td>\n",
       "      <td>free/reduced</td>\n",
       "      <td>none</td>\n",
       "      <td>0</td>\n",
       "      <td>17</td>\n",
       "      <td>10</td>\n",
       "    </tr>\n",
       "    <tr>\n",
       "      <th>1</th>\n",
       "      <td>female</td>\n",
       "      <td>group B</td>\n",
       "      <td>high school</td>\n",
       "      <td>free/reduced</td>\n",
       "      <td>none</td>\n",
       "      <td>8</td>\n",
       "      <td>24</td>\n",
       "      <td>23</td>\n",
       "    </tr>\n",
       "    <tr>\n",
       "      <th>2</th>\n",
       "      <td>female</td>\n",
       "      <td>group B</td>\n",
       "      <td>some high school</td>\n",
       "      <td>free/reduced</td>\n",
       "      <td>none</td>\n",
       "      <td>18</td>\n",
       "      <td>32</td>\n",
       "      <td>28</td>\n",
       "    </tr>\n",
       "    <tr>\n",
       "      <th>3</th>\n",
       "      <td>female</td>\n",
       "      <td>group B</td>\n",
       "      <td>some college</td>\n",
       "      <td>standard</td>\n",
       "      <td>none</td>\n",
       "      <td>11</td>\n",
       "      <td>38</td>\n",
       "      <td>32</td>\n",
       "    </tr>\n",
       "    <tr>\n",
       "      <th>4</th>\n",
       "      <td>female</td>\n",
       "      <td>group C</td>\n",
       "      <td>some college</td>\n",
       "      <td>free/reduced</td>\n",
       "      <td>none</td>\n",
       "      <td>22</td>\n",
       "      <td>39</td>\n",
       "      <td>33</td>\n",
       "    </tr>\n",
       "    <tr>\n",
       "      <th>...</th>\n",
       "      <td>...</td>\n",
       "      <td>...</td>\n",
       "      <td>...</td>\n",
       "      <td>...</td>\n",
       "      <td>...</td>\n",
       "      <td>...</td>\n",
       "      <td>...</td>\n",
       "      <td>...</td>\n",
       "    </tr>\n",
       "    <tr>\n",
       "      <th>995</th>\n",
       "      <td>male</td>\n",
       "      <td>group E</td>\n",
       "      <td>some college</td>\n",
       "      <td>standard</td>\n",
       "      <td>completed</td>\n",
       "      <td>99</td>\n",
       "      <td>87</td>\n",
       "      <td>81</td>\n",
       "    </tr>\n",
       "    <tr>\n",
       "      <th>996</th>\n",
       "      <td>male</td>\n",
       "      <td>group A</td>\n",
       "      <td>some college</td>\n",
       "      <td>standard</td>\n",
       "      <td>completed</td>\n",
       "      <td>100</td>\n",
       "      <td>96</td>\n",
       "      <td>86</td>\n",
       "    </tr>\n",
       "    <tr>\n",
       "      <th>997</th>\n",
       "      <td>male</td>\n",
       "      <td>group D</td>\n",
       "      <td>some college</td>\n",
       "      <td>standard</td>\n",
       "      <td>completed</td>\n",
       "      <td>100</td>\n",
       "      <td>97</td>\n",
       "      <td>99</td>\n",
       "    </tr>\n",
       "    <tr>\n",
       "      <th>998</th>\n",
       "      <td>male</td>\n",
       "      <td>group E</td>\n",
       "      <td>associate's degree</td>\n",
       "      <td>free/reduced</td>\n",
       "      <td>completed</td>\n",
       "      <td>100</td>\n",
       "      <td>100</td>\n",
       "      <td>93</td>\n",
       "    </tr>\n",
       "    <tr>\n",
       "      <th>999</th>\n",
       "      <td>male</td>\n",
       "      <td>group E</td>\n",
       "      <td>bachelor's degree</td>\n",
       "      <td>standard</td>\n",
       "      <td>completed</td>\n",
       "      <td>100</td>\n",
       "      <td>100</td>\n",
       "      <td>100</td>\n",
       "    </tr>\n",
       "  </tbody>\n",
       "</table>\n",
       "<p>1000 rows × 8 columns</p>\n",
       "</div>"
      ],
      "text/plain": [
       "     gender race/ethnicity parental level of education         lunch  \\\n",
       "0    female        group C            some high school  free/reduced   \n",
       "1    female        group B                 high school  free/reduced   \n",
       "2    female        group B            some high school  free/reduced   \n",
       "3    female        group B                some college      standard   \n",
       "4    female        group C                some college  free/reduced   \n",
       "..      ...            ...                         ...           ...   \n",
       "995    male        group E                some college      standard   \n",
       "996    male        group A                some college      standard   \n",
       "997    male        group D                some college      standard   \n",
       "998    male        group E          associate's degree  free/reduced   \n",
       "999    male        group E           bachelor's degree      standard   \n",
       "\n",
       "    test preparation course  math score  reading score  writing score  \n",
       "0                      none           0             17             10  \n",
       "1                      none           8             24             23  \n",
       "2                      none          18             32             28  \n",
       "3                      none          11             38             32  \n",
       "4                      none          22             39             33  \n",
       "..                      ...         ...            ...            ...  \n",
       "995               completed          99             87             81  \n",
       "996               completed         100             96             86  \n",
       "997               completed         100             97             99  \n",
       "998               completed         100            100             93  \n",
       "999               completed         100            100            100  \n",
       "\n",
       "[1000 rows x 8 columns]"
      ]
     },
     "execution_count": 71,
     "metadata": {},
     "output_type": "execute_result"
    }
   ],
   "source": [
    "import pandas as pd\n",
    "import numpy as np\n",
    "import matplotlib.pyplot as plt\n",
    "import seaborn as sns\n",
    "data_set1=pd.read_csv('StudentsPerformance.csv')\n",
    "data_set1"
   ]
  },
  {
   "cell_type": "markdown",
   "id": "3a27fe34",
   "metadata": {},
   "source": [
    "## 1. Find out how many males and females participated in the test."
   ]
  },
  {
   "cell_type": "code",
   "execution_count": 72,
   "id": "63fb4007",
   "metadata": {},
   "outputs": [
    {
     "name": "stdout",
     "output_type": "stream",
     "text": [
      "The Number of Males participated in the Test  =  482\n",
      "The Number of Females participated in the Test  =  518\n"
     ]
    }
   ],
   "source": [
    "data_set1.head()\n",
    "female=0\n",
    "male=0\n",
    "data_set1.head()\n",
    "female=list(data_set1['gender']).count('female')\n",
    "male=list(data_set1['gender']).count('male')\n",
    "print('The Number of Males participated in the Test  = ', male)\n",
    "print('The Number of Females participated in the Test  = ', female)"
   ]
  },
  {
   "cell_type": "markdown",
   "id": "b6744ead",
   "metadata": {},
   "source": [
    "## 2. What do you think about the students' parental level of education? "
   ]
  },
  {
   "cell_type": "code",
   "execution_count": 73,
   "id": "01710f9e",
   "metadata": {},
   "outputs": [
    {
     "name": "stdout",
     "output_type": "stream",
     "text": [
      "The below are the summary of the Parental Level education details of the students partcipated in the Test\n"
     ]
    },
    {
     "data": {
      "text/plain": [
       "parental level of education\n",
       "associate's degree    222\n",
       "bachelor's degree     118\n",
       "high school           196\n",
       "master's degree        59\n",
       "some college          226\n",
       "some high school      179\n",
       "Name: parental level of education, dtype: int64"
      ]
     },
     "execution_count": 73,
     "metadata": {},
     "output_type": "execute_result"
    }
   ],
   "source": [
    "parental_edu=data_set1['parental level of education'].unique()\n",
    "print('The below are the summary of the Parental Level education details of the students partcipated in the Test')\n",
    "data_set2 = data_set1.groupby(['parental level of education'])['parental level of education'].count()\n",
    "data_set2"
   ]
  },
  {
   "cell_type": "code",
   "execution_count": 38,
   "id": "8ea484f6",
   "metadata": {},
   "outputs": [
    {
     "name": "stdout",
     "output_type": "stream",
     "text": [
      "The Pictorial representation of the data will be as follows:\n"
     ]
    },
    {
     "data": {
      "image/png": "[encoded data removed]",
      "text/plain": [
       "<Figure size 576x720 with 1 Axes>"
      ]
     },
     "metadata": {
      "needs_background": "light"
     },
     "output_type": "display_data"
    }
   ],
   "source": [
    "print('The Pictorial representation of the data will be as follows:')\n",
    "plt.figure(figsize=(8,10))\n",
    "plt.ylim()\n",
    "data_set2.plot(kind = 'bar')\n",
    "plt.title(\"Parental Education level comparison\")\n",
    "plt.xlabel(\"Parental Education\")\n",
    "plt.ylabel(\"Count of Parents\")\n",
    "plt.grid()\n"
   ]
  },
  {
   "cell_type": "markdown",
   "id": "da780a6d",
   "metadata": {},
   "source": [
    "## 3. Who scores the most on average for math, reading and writing based on \n",
    "### ● Gender \n",
    "### ● Test preparation course "
   ]
  },
  {
   "cell_type": "code",
   "execution_count": 74,
   "id": "021517b6",
   "metadata": {},
   "outputs": [
    {
     "name": "stdout",
     "output_type": "stream",
     "text": [
      "The average math score based on Gender is as follows:\n",
      "gender\n",
      "female    63.376448\n",
      "male      68.821577\n",
      "Name: math score, dtype: float64\n",
      "The gender with the highest Maths score is male with an Average value of 68.82157676348548\n"
     ]
    }
   ],
   "source": [
    "data_set3=data_set1.groupby(['gender'])['math score'].agg('mean')\n",
    "print('The average math score based on Gender is as follows:')\n",
    "print (data_set3)\n",
    "print('The gender with the highest Maths score is',data_set3.idxmax() ,'with an Average value of',data_set3.max())"
   ]
  },
  {
   "cell_type": "code",
   "execution_count": 75,
   "id": "d86176b3",
   "metadata": {},
   "outputs": [
    {
     "name": "stdout",
     "output_type": "stream",
     "text": [
      "The average Reading score based on Gender is as follows:\n",
      "gender\n",
      "female    72.590734\n",
      "male      65.545643\n",
      "Name: reading score, dtype: float64\n",
      "The gender with the highest Reading score is female with an Average value of 72.59073359073359\n"
     ]
    }
   ],
   "source": [
    "data_set4=data_set1.groupby(['gender'])['reading score'].agg('mean')\n",
    "print('The average Reading score based on Gender is as follows:')\n",
    "print (data_set4)\n",
    "print('The gender with the highest Reading score is',data_set4.idxmax() ,'with an Average value of',data_set4.max())"
   ]
  },
  {
   "cell_type": "code",
   "execution_count": 76,
   "id": "8dbe33fa",
   "metadata": {},
   "outputs": [
    {
     "name": "stdout",
     "output_type": "stream",
     "text": [
      "The average Writing score based on Gender is as follows:\n",
      "gender\n",
      "female    72.467181\n",
      "male      63.446058\n",
      "Name: writing score, dtype: float64\n",
      "The gender with the highest Writing score is female with an Average value of 72.46718146718146\n"
     ]
    }
   ],
   "source": [
    "data_set5=data_set1.groupby(['gender'])['writing score'].agg('mean')\n",
    "print('The average Writing score based on Gender is as follows:')\n",
    "print (data_set5)\n",
    "print('The gender with the highest Writing score is',data_set5.idxmax() ,'with an Average value of',data_set5.max())"
   ]
  },
  {
   "cell_type": "code",
   "execution_count": 77,
   "id": "7efd2bac",
   "metadata": {},
   "outputs": [
    {
     "name": "stdout",
     "output_type": "stream",
     "text": [
      "The average math score based on Test preparation course is as follows:\n",
      "test preparation course\n",
      "completed    69.96648\n",
      "none         63.78972\n",
      "Name: math score, dtype: float64\n",
      "The Test preparation course with the highest Maths score is completed with an Average value of 69.96648044692738\n"
     ]
    }
   ],
   "source": [
    "data_set6=data_set1.groupby(['test preparation course'])['math score'].agg('mean')\n",
    "print('The average math score based on Test preparation course is as follows:')\n",
    "print (data_set6)\n",
    "print('The Test preparation course with the highest Maths score is' ,data_set6.idxmax() , 'with an Average value of',data_set6.max())"
   ]
  },
  {
   "cell_type": "code",
   "execution_count": 78,
   "id": "b70fd40c",
   "metadata": {},
   "outputs": [
    {
     "name": "stdout",
     "output_type": "stream",
     "text": [
      "The average Reading score based on Test preparation course is as follows:\n",
      "test preparation course\n",
      "completed    74.175978\n",
      "none         66.417445\n",
      "Name: reading score, dtype: float64\n",
      "The Test preparation course with the highest Reading score is completed with an Average value of 74.17597765363128\n"
     ]
    }
   ],
   "source": [
    "data_set7=data_set1.groupby(['test preparation course'])['reading score'].agg('mean')\n",
    "print('The average Reading score based on Test preparation course is as follows:')\n",
    "print (data_set7)\n",
    "print('The Test preparation course with the highest Reading score is',data_set7.idxmax() ,'with an Average value of',data_set7.max())"
   ]
  },
  {
   "cell_type": "code",
   "execution_count": 79,
   "id": "18c232af",
   "metadata": {},
   "outputs": [
    {
     "name": "stdout",
     "output_type": "stream",
     "text": [
      "The average Writing score based on Test preparation course is as follows:\n",
      "test preparation course\n",
      "completed    74.684358\n",
      "none         64.457944\n",
      "Name: writing score, dtype: float64\n",
      "The Test preparation course with the highest Writing score is completed with an Average value of 74.68435754189944\n"
     ]
    }
   ],
   "source": [
    "data_set8=data_set1.groupby(['test preparation course'])['writing score'].agg('mean')\n",
    "print('The average Writing score based on Test preparation course is as follows:')\n",
    "print (data_set8)\n",
    "print('The Test preparation course with the highest Writing score is',data_set8.idxmax() ,'with an Average value of',data_set8.max())"
   ]
  },
  {
   "cell_type": "markdown",
   "id": "58414600",
   "metadata": {},
   "source": [
    "## 4. What do you think about the scoring variation for math, reading and writing based on \n",
    "### ● Gender \n",
    "### ● Test preparation course "
   ]
  },
  {
   "cell_type": "code",
   "execution_count": 80,
   "id": "300637c3",
   "metadata": {},
   "outputs": [
    {
     "name": "stdout",
     "output_type": "stream",
     "text": [
      "The Standard Deviation of Maths score with respect to Gender are as follows:\n",
      "gender\n",
      "female    16.029928\n",
      "male      14.556411\n",
      "Name: math score, dtype: float64\n",
      "The Gender with more consistent Maths score (based on average) is male with a Standard Deviation of 14.556410851750073\n"
     ]
    }
   ],
   "source": [
    "data_set9=data_set1.groupby(['gender'])['math score'].agg('std')\n",
    "print('The Standard Deviation of Maths score with respect to Gender are as follows:')\n",
    "print (data_set9)\n",
    "print('The Gender with more consistent Maths score (based on average) is',data_set9.idxmin(),'with a Standard Deviation of',data_set9.min())"
   ]
  },
  {
   "cell_type": "code",
   "execution_count": 81,
   "id": "466bd9f2",
   "metadata": {},
   "outputs": [
    {
     "name": "stdout",
     "output_type": "stream",
     "text": [
      "The Standard Deviation of Reading score with respect to Gender are as follows:\n",
      "gender\n",
      "female    14.411018\n",
      "male      14.149594\n",
      "Name: reading score, dtype: float64\n",
      "The Gender with more consistent Reading score (based on average) is male with a Standard Deviation of 14.149593990092221\n"
     ]
    }
   ],
   "source": [
    "data_set10=data_set1.groupby(['gender'])['reading score'].agg('std')\n",
    "print('The Standard Deviation of Reading score with respect to Gender are as follows:')\n",
    "print (data_set10)\n",
    "print('The Gender with more consistent Reading score (based on average) is',data_set10.idxmin(),'with a Standard Deviation of',data_set10.min())"
   ]
  },
  {
   "cell_type": "code",
   "execution_count": 82,
   "id": "eb547269",
   "metadata": {},
   "outputs": [
    {
     "name": "stdout",
     "output_type": "stream",
     "text": [
      "The Standard Deviation of Writing score with respect to Gender are as follows:\n",
      "gender\n",
      "female    14.844842\n",
      "male      14.227225\n",
      "Name: writing score, dtype: float64\n",
      "The Gender with more consistent Writing score (based on average) is male with a Standard Deviation of 14.227224751791551\n"
     ]
    }
   ],
   "source": [
    "data_set11=data_set1.groupby(['gender'])['writing score'].agg('std')\n",
    "print('The Standard Deviation of Writing score with respect to Gender are as follows:')\n",
    "print (data_set11)\n",
    "print('The Gender with more consistent Writing score (based on average) is',data_set11.idxmin(),'with a Standard Deviation of',data_set11.min())"
   ]
  },
  {
   "cell_type": "code",
   "execution_count": 83,
   "id": "ac554fc3",
   "metadata": {},
   "outputs": [
    {
     "name": "stdout",
     "output_type": "stream",
     "text": [
      "The Standard Deviation of Maths score with respect to Test preparation course are as follows:\n",
      "test preparation course\n",
      "completed    14.521847\n",
      "none         15.705689\n",
      "Name: math score, dtype: float64\n",
      "The Test preparation course with more consistent Maths score (based on average) is completed with a Standard Deviation of 14.52184655455216\n"
     ]
    }
   ],
   "source": [
    "data_set12=data_set1.groupby(['test preparation course'])['math score'].agg('std')\n",
    "print('The Standard Deviation of Maths score with respect to Test preparation course are as follows:')\n",
    "print (data_set12)\n",
    "print('The Test preparation course with more consistent Maths score (based on average) is',data_set12.idxmin(),'with a Standard Deviation of',data_set12.min())"
   ]
  },
  {
   "cell_type": "code",
   "execution_count": 84,
   "id": "f5853108",
   "metadata": {},
   "outputs": [
    {
     "name": "stdout",
     "output_type": "stream",
     "text": [
      "The Standard Deviation of Reading score with respect to Test preparation course are as follows:\n",
      "test preparation course\n",
      "completed    13.537572\n",
      "none         14.608896\n",
      "Name: reading score, dtype: float64\n",
      "The Test preparation course with more consistent Reading score (based on average) is completed with a Standard Deviation of 13.53757230405269\n"
     ]
    }
   ],
   "source": [
    "data_set13=data_set1.groupby(['test preparation course'])['reading score'].agg('std')\n",
    "print('The Standard Deviation of Reading score with respect to Test preparation course are as follows:')\n",
    "print (data_set13)\n",
    "print('The Test preparation course with more consistent Reading score (based on average) is',data_set13.idxmin(),'with a Standard Deviation of',data_set13.min())"
   ]
  },
  {
   "cell_type": "code",
   "execution_count": 85,
   "id": "6a2693b2",
   "metadata": {},
   "outputs": [
    {
     "name": "stdout",
     "output_type": "stream",
     "text": [
      "The Standard Deviation of Writing score with respect to Test preparation course are as follows:\n",
      "test preparation course\n",
      "completed    13.236412\n",
      "none         15.041667\n",
      "Name: writing score, dtype: float64\n",
      "The Test preparation course with more consistent Writing score (based on average) is completed with a Standard Deviation of 13.23641234515475\n"
     ]
    }
   ],
   "source": [
    "data_set14=data_set1.groupby(['test preparation course'])['writing score'].agg('std')\n",
    "print('The Standard Deviation of Writing score with respect to Test preparation course are as follows:')\n",
    "print (data_set14)\n",
    "print('The Test preparation course with more consistent Writing score (based on average) is',data_set14.idxmin(),'with a Standard Deviation of',data_set14.min())"
   ]
  },
  {
   "cell_type": "markdown",
   "id": "fd667513",
   "metadata": {},
   "source": [
    "## 5.The management needs your help to give bonus points to the top 25% of students based on their maths score, so how will you help the management to achieve this."
   ]
  },
  {
   "cell_type": "code",
   "execution_count": 86,
   "id": "21dff2d4",
   "metadata": {},
   "outputs": [
    {
     "name": "stdout",
     "output_type": "stream",
     "text": [
      "There are 1000 students as per the data set. \n",
      "As the Bonus will be provided for the top 25% of students based on their Score in Maths, there will be 250 students in the list in the descending order of ther score in Maths. \n",
      "Below are the details of the students:\n"
     ]
    },
    {
     "data": {
      "text/html": [
       "<div>\n",
       "<style scoped>\n",
       "    .dataframe tbody tr th:only-of-type {\n",
       "        vertical-align: middle;\n",
       "    }\n",
       "\n",
       "    .dataframe tbody tr th {\n",
       "        vertical-align: top;\n",
       "    }\n",
       "\n",
       "    .dataframe thead th {\n",
       "        text-align: right;\n",
       "    }\n",
       "</style>\n",
       "<table border=\"1\" class=\"dataframe\">\n",
       "  <thead>\n",
       "    <tr style=\"text-align: right;\">\n",
       "      <th></th>\n",
       "      <th>gender</th>\n",
       "      <th>race/ethnicity</th>\n",
       "      <th>parental level of education</th>\n",
       "      <th>lunch</th>\n",
       "      <th>test preparation course</th>\n",
       "      <th>math score</th>\n",
       "      <th>reading score</th>\n",
       "      <th>writing score</th>\n",
       "    </tr>\n",
       "  </thead>\n",
       "  <tbody>\n",
       "    <tr>\n",
       "      <th>999</th>\n",
       "      <td>male</td>\n",
       "      <td>group E</td>\n",
       "      <td>bachelor's degree</td>\n",
       "      <td>standard</td>\n",
       "      <td>completed</td>\n",
       "      <td>100</td>\n",
       "      <td>100</td>\n",
       "      <td>100</td>\n",
       "    </tr>\n",
       "    <tr>\n",
       "      <th>996</th>\n",
       "      <td>male</td>\n",
       "      <td>group A</td>\n",
       "      <td>some college</td>\n",
       "      <td>standard</td>\n",
       "      <td>completed</td>\n",
       "      <td>100</td>\n",
       "      <td>96</td>\n",
       "      <td>86</td>\n",
       "    </tr>\n",
       "    <tr>\n",
       "      <th>515</th>\n",
       "      <td>female</td>\n",
       "      <td>group E</td>\n",
       "      <td>some college</td>\n",
       "      <td>standard</td>\n",
       "      <td>none</td>\n",
       "      <td>100</td>\n",
       "      <td>92</td>\n",
       "      <td>97</td>\n",
       "    </tr>\n",
       "    <tr>\n",
       "      <th>517</th>\n",
       "      <td>female</td>\n",
       "      <td>group E</td>\n",
       "      <td>associate's degree</td>\n",
       "      <td>standard</td>\n",
       "      <td>none</td>\n",
       "      <td>100</td>\n",
       "      <td>100</td>\n",
       "      <td>100</td>\n",
       "    </tr>\n",
       "    <tr>\n",
       "      <th>516</th>\n",
       "      <td>female</td>\n",
       "      <td>group E</td>\n",
       "      <td>bachelor's degree</td>\n",
       "      <td>standard</td>\n",
       "      <td>none</td>\n",
       "      <td>100</td>\n",
       "      <td>100</td>\n",
       "      <td>100</td>\n",
       "    </tr>\n",
       "    <tr>\n",
       "      <th>...</th>\n",
       "      <td>...</td>\n",
       "      <td>...</td>\n",
       "      <td>...</td>\n",
       "      <td>...</td>\n",
       "      <td>...</td>\n",
       "      <td>...</td>\n",
       "      <td>...</td>\n",
       "      <td>...</td>\n",
       "    </tr>\n",
       "    <tr>\n",
       "      <th>856</th>\n",
       "      <td>male</td>\n",
       "      <td>group E</td>\n",
       "      <td>some high school</td>\n",
       "      <td>standard</td>\n",
       "      <td>completed</td>\n",
       "      <td>77</td>\n",
       "      <td>76</td>\n",
       "      <td>77</td>\n",
       "    </tr>\n",
       "    <tr>\n",
       "      <th>855</th>\n",
       "      <td>male</td>\n",
       "      <td>group E</td>\n",
       "      <td>associate's degree</td>\n",
       "      <td>free/reduced</td>\n",
       "      <td>completed</td>\n",
       "      <td>77</td>\n",
       "      <td>69</td>\n",
       "      <td>68</td>\n",
       "    </tr>\n",
       "    <tr>\n",
       "      <th>854</th>\n",
       "      <td>male</td>\n",
       "      <td>group D</td>\n",
       "      <td>some high school</td>\n",
       "      <td>standard</td>\n",
       "      <td>completed</td>\n",
       "      <td>77</td>\n",
       "      <td>68</td>\n",
       "      <td>69</td>\n",
       "    </tr>\n",
       "    <tr>\n",
       "      <th>853</th>\n",
       "      <td>male</td>\n",
       "      <td>group D</td>\n",
       "      <td>associate's degree</td>\n",
       "      <td>free/reduced</td>\n",
       "      <td>none</td>\n",
       "      <td>77</td>\n",
       "      <td>78</td>\n",
       "      <td>73</td>\n",
       "    </tr>\n",
       "    <tr>\n",
       "      <th>852</th>\n",
       "      <td>male</td>\n",
       "      <td>group D</td>\n",
       "      <td>some college</td>\n",
       "      <td>free/reduced</td>\n",
       "      <td>none</td>\n",
       "      <td>77</td>\n",
       "      <td>62</td>\n",
       "      <td>64</td>\n",
       "    </tr>\n",
       "  </tbody>\n",
       "</table>\n",
       "<p>250 rows × 8 columns</p>\n",
       "</div>"
      ],
      "text/plain": [
       "     gender race/ethnicity parental level of education         lunch  \\\n",
       "999    male        group E           bachelor's degree      standard   \n",
       "996    male        group A                some college      standard   \n",
       "515  female        group E                some college      standard   \n",
       "517  female        group E          associate's degree      standard   \n",
       "516  female        group E           bachelor's degree      standard   \n",
       "..      ...            ...                         ...           ...   \n",
       "856    male        group E            some high school      standard   \n",
       "855    male        group E          associate's degree  free/reduced   \n",
       "854    male        group D            some high school      standard   \n",
       "853    male        group D          associate's degree  free/reduced   \n",
       "852    male        group D                some college  free/reduced   \n",
       "\n",
       "    test preparation course  math score  reading score  writing score  \n",
       "999               completed         100            100            100  \n",
       "996               completed         100             96             86  \n",
       "515                    none         100             92             97  \n",
       "517                    none         100            100            100  \n",
       "516                    none         100            100            100  \n",
       "..                      ...         ...            ...            ...  \n",
       "856               completed          77             76             77  \n",
       "855               completed          77             69             68  \n",
       "854               completed          77             68             69  \n",
       "853                    none          77             78             73  \n",
       "852                    none          77             62             64  \n",
       "\n",
       "[250 rows x 8 columns]"
      ]
     },
     "execution_count": 86,
     "metadata": {},
     "output_type": "execute_result"
    }
   ],
   "source": [
    "print('There are 1000 students as per the data set. \\nAs the Bonus will be provided for the top 25% of students based on their Score in Maths, there will be 250 students in the list in the descending order of ther score in Maths. \\nBelow are the details of the students:')\n",
    "data_set1.sort_values(['math score'],ascending=False)[:250]"
   ]
  },
  {
   "cell_type": "code",
   "execution_count": null,
   "id": "c18aa1b8",
   "metadata": {},
   "outputs": [],
   "source": []
  }
 ],
 "metadata": {
  "kernelspec": {
   "display_name": "Python 3",
   "language": "python",
   "name": "python3"
  },
  "language_info": {
   "codemirror_mode": {
    "name": "ipython",
    "version": 3
   },
   "file_extension": ".py",
   "mimetype": "text/x-python",
   "name": "python",
   "nbconvert_exporter": "python",
   "pygments_lexer": "ipython3",
   "version": "3.8.8"
  }
 },
 "nbformat": 4,
 "nbformat_minor": 5
}
